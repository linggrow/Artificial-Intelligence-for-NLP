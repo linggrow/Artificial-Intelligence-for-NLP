{
 "cells": [
  {
   "cell_type": "markdown",
   "metadata": {},
   "source": [
    "## Lesson-01 Assignment"
   ]
  },
  {
   "cell_type": "markdown",
   "metadata": {},
   "source": [
    ">"
   ]
  },
  {
   "cell_type": "markdown",
   "metadata": {},
   "source": [
    "`各位同学大家好，欢迎各位开始学习我们的人工智能课程。这门课程假设大家不具备机器学习和人工智能的知识，但是希望大家具备初级的Python编程能力。根据往期同学的实际反馈，我们课程的完结之后 能力能够超过80%的计算机人工智能/深度学习方向的硕士生的能力。`"
   ]
  },
  {
   "cell_type": "markdown",
   "metadata": {},
   "source": [
    "## 本次作业的内容"
   ]
  },
  {
   "cell_type": "markdown",
   "metadata": {},
   "source": [
    "#### 1. 复现课堂代码\n",
    "\n",
    "在本部分，你需要参照我们给大家的GitHub地址里边的课堂代码，结合课堂内容，复现内容。"
   ]
  },
  {
   "cell_type": "markdown",
   "metadata": {},
   "source": [
    "#### 2. 请回答以下问题\n",
    "\n",
    "回答以下问题，并将问题发送至 mqgao@kaikeba.com中：\n",
    "```\n",
    "    2.1. what do you want to acquire in this course？\n",
    "    2.2. what problems do you want to solve？\n",
    "    2.3. what’s the advantages you have to finish you goal?\n",
    "    2.4. what’s the disadvantages you need to overcome to finish you goal?\n",
    "    2.5. How will you plan to study in this course period?\n",
    "```"
   ]
  },
  {
   "cell_type": "markdown",
   "metadata": {},
   "source": [
    "#### 3. 如何提交\n",
    "代码 + 此 jupyter 相关，提交至自己的 github 中(**所以请务必把GitHub按照班主任要求录入在Trello中**)；\n",
    "第2问，请提交至mqgao@kaikeba.com邮箱。\n",
    "#### 4. 作业截止时间\n",
    "此次作业截止时间为 2019.7.6日"
   ]
  },
  {
   "cell_type": "markdown",
   "metadata": {},
   "source": [
    "#### 5. 完成以下问答和编程练习"
   ]
  },
  {
   "cell_type": "markdown",
   "metadata": {},
   "source": [
    ">"
   ]
  },
  {
   "cell_type": "markdown",
   "metadata": {},
   "source": [
    "## 基础理论部分"
   ]
  },
  {
   "cell_type": "markdown",
   "metadata": {},
   "source": [
    "#### 0. Can you come up out 3 sceneraies which use AI methods? "
   ]
  },
  {
   "cell_type": "markdown",
   "metadata": {},
   "source": [
    "Ans: 智能客服对话机器人，火车站闸门的人脸识别，百度地图的路线规划"
   ]
  },
  {
   "cell_type": "markdown",
   "metadata": {},
   "source": [
    "#### 1. How do we use Github; Why do we use Jupyter and Pycharm;"
   ]
  },
  {
   "cell_type": "markdown",
   "metadata": {},
   "source": [
    "Ans: Github把自己完成的文件推送到云端，方便集体协作 \n",
    "Github 目前知道在gifhub点击“Upload files”可以上传自己完成的文件。\n",
    "\n",
    "暂时未理解命令如何操作，Fetch 取的、push 委托，传送上去、remote  遥远的，距离很大的、pull 拉，把数据拉下来、repertory  仓库。git的工作区，缓存区，仓库区之前的运行原理还需学习。https://classroom.udacity.com/courses/cs212\n",
    "\n",
    "Jupyter和Pycharm是python编程非常方便的工具。\n",
    "Jupyter可保留运行结果记录；\n",
    "工程用Pycharm编辑更方便调试。\n"
   ]
  },
  {
   "cell_type": "markdown",
   "metadata": {},
   "source": [
    "#### 2. What's the Probability Model?"
   ]
  },
  {
   "cell_type": "markdown",
   "metadata": {},
   "source": [
    "Ans: 概率模型是不同的随机变量之间相互非确定性的概率关系的数学模型。自变量X与因变量Y之间的概率关系P."
   ]
  },
  {
   "cell_type": "markdown",
   "metadata": {},
   "source": [
    "#### 3. Can you came up with some sceneraies at which we could use Probability Model?"
   ]
  },
  {
   "cell_type": "markdown",
   "metadata": {},
   "source": [
    "Ans:比如日常上班出门的时间X,与是否能准时到公司Y,之间就又概率关系P。不同的出门时间X会概率性分布上班所需耗时，上班是否能遇上快速的公交是一种概率，路途情况是否顺畅也是一种概率，可以通过统计出门的时间X和准点到公司Y，来预估概率模型P.且概率还需要看实际情况的分布，比如周一通常会比其他时候拥堵，最好分开计算。马路可能有紧急维修导致异常拥堵，是异常值，需要剔除，采取备选方案骑自行车。"
   ]
  },
  {
   "cell_type": "markdown",
   "metadata": {},
   "source": [
    "#### 4. Why do we use probability and what's the difficult points for programming based on parsing and pattern match?"
   ]
  },
  {
   "cell_type": "markdown",
   "metadata": {},
   "source": [
    "Ans:因为实际情况千变万化，时间有限，不可能一一枚举，而且手工设计规则困难且规则是定死的。所以需要在实际情况下获取输入和输出，来推测其之间的概率关系，方便总结规律提前预测。这也注定偏差会始终存在，就会发生奇迹巧合。\n",
    "基于解析和模式匹配的编程难点，如果变了语法和实际的内容，相当于要人工重写，且其准确度取决于人工的工作量。不仅如此，现实信息的组合是天文数字，当前计算机也难以承载所有判断匹配的运行，更别提人来维护。\n"
   ]
  },
  {
   "cell_type": "markdown",
   "metadata": {},
   "source": [
    "#### 5. What's the Language Model;"
   ]
  },
  {
   "cell_type": "markdown",
   "metadata": {},
   "source": [
    "Ans:语言模型是总结语言文字的概率规律关系的模型。每一个语言文字信息给予一个概率，计算所需信息的规律，来预测总结提取信息。"
   ]
  },
  {
   "cell_type": "markdown",
   "metadata": {},
   "source": [
    "#### 6. Can you came up with some sceneraies at which we could use Language Model?\n"
   ]
  },
  {
   "cell_type": "markdown",
   "metadata": {},
   "source": [
    "Ans:比如多篇文章的分类，可以通过提取标签类里特征的词汇，来计算这些文章含有的特征词汇的整体概率，比较各类别之间的概率，选最可能的那个类别作为预测类别。根据测试预测结果调整参数提高准确度和泛化。"
   ]
  },
  {
   "cell_type": "markdown",
   "metadata": {},
   "source": [
    "#### 7. What's the 1-gram language model;"
   ]
  },
  {
   "cell_type": "markdown",
   "metadata": {},
   "source": [
    "Ans:一个词汇元的概率模型，换句话说是左右的词相互独立来计算的概率"
   ]
  },
  {
   "cell_type": "markdown",
   "metadata": {},
   "source": [
    "#### 8. What's the disadvantages and advantages of 1-gram language model;"
   ]
  },
  {
   "cell_type": "markdown",
   "metadata": {},
   "source": [
    "Ans:优势：简单，计算快速便捷\n",
    "劣势：准确度不高，解决的问题较局限"
   ]
  },
  {
   "cell_type": "markdown",
   "metadata": {},
   "source": [
    "#### 9. What't the 2-gram models;"
   ]
  },
  {
   "cell_type": "markdown",
   "metadata": {},
   "source": [
    "Ans:2个词汇元的概率模型，给予该词与前一个词组合在一起的概率计算。"
   ]
  },
  {
   "cell_type": "markdown",
   "metadata": {},
   "source": [
    "## 编程实践部分"
   ]
  },
  {
   "cell_type": "markdown",
   "metadata": {},
   "source": [
    "#### 1. 设计你自己的句子生成器"
   ]
  },
  {
   "cell_type": "markdown",
   "metadata": {},
   "source": [
    "如何生成句子是一个很经典的问题，从1940s开始，图灵提出机器智能的时候，就使用的是人类能不能流畅和计算机进行对话。和计算机对话的一个前提是，计算机能够生成语言。\n",
    "\n",
    "计算机如何能生成语言是一个经典但是又很复杂的问题。 我们课程上为大家介绍的是一种基于规则（Rule Based）的生成方法。该方法虽然提出的时间早，但是现在依然在很多地方能够大显身手。值得说明的是，现在很多很实用的算法，都是很久之前提出的，例如，二分查找提出与1940s, Dijstra算法提出于1960s 等等。"
   ]
  },
  {
   "cell_type": "markdown",
   "metadata": {},
   "source": [
    "在著名的电视剧，电影《西部世界》中，这些机器人们语言生成的方法就是使用的SyntaxTree生成语言的方法。\n",
    "\n",
    "> \n",
    ">\n",
    "\n",
    "![WstWorld](https://timgsa.baidu.com/timg?image&quality=80&size=b10000_10000&sec=1561818705&di=95ca9ff2ff37fcb88ae47b82c7079feb&src=http://s7.sinaimg.cn/mw690/006BKUGwzy75VK46FMi66&690)\n",
    "\n",
    "> \n",
    ">"
   ]
  },
  {
   "cell_type": "markdown",
   "metadata": {},
   "source": [
    "在这一部分，需要各位同学首先定义自己的语言。 大家可以先想一个应用场景，然后在这个场景下，定义语法。例如：\n",
    "\n",
    "在西部世界里，一个”人类“的语言可以定义为：\n",
    "``` \n",
    "human = \"\"\"\n",
    "human = 自己 寻找 活动\n",
    "自己 = 我 | 俺 | 我们 \n",
    "寻找 = 看看 | 找找 | 想找点\n",
    "活动 = 乐子 | 玩的\n",
    "\"\"\"\n",
    "```\n",
    "\n",
    "一个“接待员”的语言可以定义为\n",
    "```\n",
    "host = \"\"\"\n",
    "host = 寒暄 报数 询问 业务相关 结尾 \n",
    "报数 = 我是 数字 号 ,\n",
    "数字 = 单个数字 | 数字 单个数字 \n",
    "单个数字 = 1 | 2 | 3 | 4 | 5 | 6 | 7 | 8 | 9 \n",
    "寒暄 = 称谓 打招呼 | 打招呼\n",
    "称谓 = 人称 ,\n",
    "人称 = 先生 | 女士 | 小朋友\n",
    "打招呼 = 你好 | 您好 \n",
    "询问 = 请问你要 | 您需要\n",
    "业务相关 = 玩玩 具体业务\n",
    "玩玩 = 耍一耍 | 玩一玩\n",
    "具体业务 = 喝酒 | 打牌 | 打猎 | 赌博\n",
    "结尾 = 吗？\"\"\"\n",
    "\n",
    "```\n",
    "\n",
    "\n"
   ]
  },
  {
   "cell_type": "markdown",
   "metadata": {},
   "source": [
    "请定义你自己的语法: "
   ]
  },
  {
   "cell_type": "markdown",
   "metadata": {},
   "source": [
    "第一个语法："
   ]
  },
  {
   "cell_type": "code",
   "execution_count": 1,
   "metadata": {},
   "outputs": [],
   "source": [
    "you_need_replace_this_with_name_you_given_1 = '''\n",
    "stroy = 我 在这里 做 任务\n",
    "我 = 我 | 小猫 | 我们 | 电脑\n",
    "在这里 = 在屋顶 | 在餐厅 | 在图书馆 | 在马棚\n",
    "做 = 玩 | 吃 | 唱 | 写 | 想 | 思考 \n",
    "任务 = 文章 | 饭 | 歌 | 游戏 | \n",
    "'''"
   ]
  },
  {
   "cell_type": "markdown",
   "metadata": {},
   "source": [
    "第二个语法："
   ]
  },
  {
   "cell_type": "code",
   "execution_count": 104,
   "metadata": {},
   "outputs": [],
   "source": [
    "you_need_replace_this_with_name_you_given_2 = '''\n",
    "stroy = 谁 在那里 怎么做 事情\n",
    "谁    = 形容词 我 | 我\n",
    "我    = 我自己 | 小猫 | 电脑 | 你 | 鸡腿 | 朋友\n",
    "在那里 = 动作 地点 | 地点\n",
    "怎么做 = 形容词 动作二 | 和 谁 动作二 | 动作二\n",
    "形容词 = 开心的 | 惊讶的 | 满脸疑惑地 | \n",
    "动作   = 站 | 坐 | 蹲 | 趴\n",
    "地点   = 在图书馆 | 在房间 | 在屋顶 \n",
    "动作二 = 玩 | 吃 | 想 | 抽奖抽到 | 看\n",
    "事情   = 猜拳 | 饭 | 文章 | 一个亿 | 书 \n",
    "'''"
   ]
  },
  {
   "cell_type": "markdown",
   "metadata": {},
   "source": [
    "TODO: 然后，使用自己之前定义的generate函数，使用此函数生成句子。"
   ]
  },
  {
   "cell_type": "code",
   "execution_count": 105,
   "metadata": {},
   "outputs": [],
   "source": [
    "import random\n",
    "import math\n",
    "import random\n",
    "import pandas as pd\n",
    "import numpy as np\n",
    "import re\n",
    "from collections import Counter\n",
    "import jieba\n",
    "from functools import reduce\n",
    "from operator import add, mul\n",
    "import matplotlib.pyplot as plt"
   ]
  },
  {
   "cell_type": "code",
   "execution_count": 106,
   "metadata": {},
   "outputs": [],
   "source": [
    "def get_gram(grammar_str, split='=', line_split='\\n'):\n",
    "    grammar = {}\n",
    "    for line in grammar_str.split(line_split):\n",
    "        if not line.strip():\n",
    "            continue\n",
    "        exp, stmt = line.split(split)\n",
    "        grammar[exp.strip()] = [s.split() for s in stmt.split('|')]\n",
    "    return grammar"
   ]
  },
  {
   "cell_type": "code",
   "execution_count": 107,
   "metadata": {},
   "outputs": [],
   "source": [
    "choice = random.choice\n",
    "def generate(gram, target):\n",
    "    if target not in gram:\n",
    "        return target\n",
    "    \n",
    "    expaned = [generate(gram, t) for t in choice(gram[target])]\n",
    "    return ''.join([e if e != '/n' else '\\n' for e in expaned if e != 'null'])"
   ]
  },
  {
   "cell_type": "code",
   "execution_count": 108,
   "metadata": {},
   "outputs": [
    {
     "data": {
      "text/plain": [
       "'电脑在屋顶吃饭'"
      ]
     },
     "execution_count": 108,
     "metadata": {},
     "output_type": "execute_result"
    }
   ],
   "source": [
    "generate(get_gram(you_need_replace_this_with_name_you_given_1), \"stroy\")"
   ]
  },
  {
   "cell_type": "code",
   "execution_count": 109,
   "metadata": {},
   "outputs": [
    {
     "data": {
      "text/plain": [
       "'惊讶的我自己蹲在房间看饭'"
      ]
     },
     "execution_count": 109,
     "metadata": {},
     "output_type": "execute_result"
    }
   ],
   "source": [
    "generate(get_gram(you_need_replace_this_with_name_you_given_2), \"stroy\")"
   ]
  },
  {
   "cell_type": "markdown",
   "metadata": {},
   "source": [
    "TODO: 然后，定义一个函数，generate_n，将generate扩展，使其能够生成n个句子:"
   ]
  },
  {
   "cell_type": "code",
   "execution_count": 110,
   "metadata": {},
   "outputs": [
    {
     "name": "stdout",
     "output_type": "stream",
     "text": [
      "鸡腿趴在房间开心的抽奖抽到饭\n",
      "鸡腿在房间想饭\n",
      "我自己在房间吃一个亿\n",
      "开心的我自己坐在图书馆惊讶的吃猜拳\n",
      "开心的电脑蹲在屋顶和小猫玩猜拳\n",
      "朋友坐在图书馆和电脑吃一个亿\n",
      "你在图书馆惊讶的吃猜拳\n",
      "开心的电脑在房间抽奖抽到一个亿\n",
      "你在屋顶看一个亿\n",
      "开心的鸡腿坐在房间玩文章\n"
     ]
    }
   ],
   "source": [
    "def generate_n(gram, target, n):\n",
    "    # you code here \n",
    "    some_sentence = []\n",
    "    for i in range(n):\n",
    "        print(generate(gram, target='stroy'))\n",
    "        some_sentence.append(generate(gram, target='stroy'))\n",
    "    return some_sentence\n",
    "some_sentence=generate_n(get_gram(you_need_replace_this_with_name_you_given_2), \"stroy\", 10)"
   ]
  },
  {
   "cell_type": "markdown",
   "metadata": {},
   "source": [
    "#### 2. 使用新数据源完成语言模型的训练"
   ]
  },
  {
   "cell_type": "markdown",
   "metadata": {},
   "source": [
    "按照我们上文中定义的`prob_2`函数，我们更换一个文本数据源，获得新的Language Model:\n",
    "\n",
    "1. 下载文本数据集（你可以在以下数据集中任选一个，也可以两个都使用）\n",
    "    + 可选数据集1，保险行业问询对话集： https://github.com/Computing-Intelligence/insuranceqa-corpus-zh/raw/release/corpus/pool/train.txt.gz\n",
    "    + 可选数据集2：豆瓣评论数据集：https://github.com/Computing-Intelligence/datasource/raw/master/movie_comments.csv\n",
    "2. 修改代码，获得新的**2-gram**语言模型\n",
    "    + 进行文本清洗，获得所有的纯文本\n",
    "    + 将这些文本进行切词\n",
    "    + 送入之前定义的语言模型中，判断文本的合理程度"
   ]
  },
  {
   "cell_type": "code",
   "execution_count": 111,
   "metadata": {},
   "outputs": [],
   "source": [
    "#############          进行文本清洗，获得所有的纯文本        ###################"
   ]
  },
  {
   "cell_type": "code",
   "execution_count": 112,
   "metadata": {},
   "outputs": [
    {
     "data": {
      "text/html": [
       "<div>\n",
       "<style scoped>\n",
       "    .dataframe tbody tr th:only-of-type {\n",
       "        vertical-align: middle;\n",
       "    }\n",
       "\n",
       "    .dataframe tbody tr th {\n",
       "        vertical-align: top;\n",
       "    }\n",
       "\n",
       "    .dataframe thead th {\n",
       "        text-align: right;\n",
       "    }\n",
       "</style>\n",
       "<table border=\"1\" class=\"dataframe\">\n",
       "  <thead>\n",
       "    <tr style=\"text-align: right;\">\n",
       "      <th></th>\n",
       "      <th>id</th>\n",
       "      <th>link</th>\n",
       "      <th>name</th>\n",
       "      <th>comment</th>\n",
       "      <th>star</th>\n",
       "    </tr>\n",
       "  </thead>\n",
       "  <tbody>\n",
       "    <tr>\n",
       "      <th>3</th>\n",
       "      <td>4</td>\n",
       "      <td>https://movie.douban.com/subject/26363254/</td>\n",
       "      <td>战狼2</td>\n",
       "      <td>凭良心说，好看到不像《战狼1》的续集，完虐《湄公河行动》。</td>\n",
       "      <td>4</td>\n",
       "    </tr>\n",
       "  </tbody>\n",
       "</table>\n",
       "</div>"
      ],
      "text/plain": [
       "  id                                        link name  \\\n",
       "3  4  https://movie.douban.com/subject/26363254/  战狼2   \n",
       "\n",
       "                         comment star  \n",
       "3  凭良心说，好看到不像《战狼1》的续集，完虐《湄公河行动》。    4  "
      ]
     },
     "execution_count": 112,
     "metadata": {},
     "output_type": "execute_result"
    }
   ],
   "source": [
    "file_path = r\"/Users/lingrowzhang/Documents/Artificial-Intelligence-for-NLP/\"\n",
    "movie_comment = pd.read_csv(file_path+\"movie_comments.txt\", encoding=\"utf-8\")\n",
    "# movie_comment.head()\n",
    "movie_comment[3:4]"
   ]
  },
  {
   "cell_type": "code",
   "execution_count": 113,
   "metadata": {},
   "outputs": [],
   "source": [
    "date_movie_comment = list(movie_comment[\"comment\"])"
   ]
  },
  {
   "cell_type": "code",
   "execution_count": 114,
   "metadata": {},
   "outputs": [],
   "source": [
    "# 这种方式无法读取该文本的数据，换一种方法\n",
    "# insurance = pd.read_csv(file_path+\"train_ insurance.txt\", encoding=\"utf-8\")"
   ]
  },
  {
   "cell_type": "code",
   "execution_count": 115,
   "metadata": {},
   "outputs": [
    {
     "data": {
      "text/plain": [
       "261497"
      ]
     },
     "execution_count": 115,
     "metadata": {},
     "output_type": "execute_result"
    }
   ],
   "source": [
    "len(movie_comment)"
   ]
  },
  {
   "cell_type": "code",
   "execution_count": 172,
   "metadata": {},
   "outputs": [
    {
     "name": "stdout",
     "output_type": "stream",
     "text": [
      "12889\n"
     ]
    }
   ],
   "source": [
    "# 获取数据的行数,但是是基于换行符号的。行数只增不减。\n",
    "# 举例：读出的movie_comment的行数为  269371。 \n",
    "count = 0\n",
    "fp = open(file_path + 'train_insurance.txt', \"r\", encoding='utf-8')\n",
    "while 1:\n",
    "    buffer = fp.read(8*1024*1024)\n",
    "    if not buffer:\n",
    "        break\n",
    "    count += buffer.count('\\n')\n",
    "print(count)\n",
    "fp.close()"
   ]
  },
  {
   "cell_type": "code",
   "execution_count": 173,
   "metadata": {},
   "outputs": [
    {
     "data": {
      "text/plain": [
       "['法律要求残疾保险吗？',\n",
       " '债权人可以在死后人寿保险吗？',\n",
       " '旅行者保险有租赁保险吗？',\n",
       " '我可以开一辆没有保险的新车吗？',\n",
       " '人寿保险的现金转出价值是否应纳税？']"
      ]
     },
     "execution_count": 173,
     "metadata": {},
     "output_type": "execute_result"
    }
   ],
   "source": [
    "date_insurance = []\n",
    "with open(file_path + 'train_insurance.txt', 'r') as f:\n",
    "    for i in range(count):\n",
    "        a = f.readline(count)\n",
    "        try:\n",
    "            b = a.split(\"++$++\")\n",
    "            date_insurance.append(b[2].strip())\n",
    "        except:\n",
    "            print(\"{} 行有问题：{}\".format(i, a))\n",
    "            pass\n",
    "date_insurance[:5]        "
   ]
  },
  {
   "cell_type": "code",
   "execution_count": 174,
   "metadata": {},
   "outputs": [],
   "source": [
    "######################          将这些文本进行切词          #####################\n",
    "# 课堂的方法"
   ]
  },
  {
   "cell_type": "code",
   "execution_count": 175,
   "metadata": {},
   "outputs": [
    {
     "name": "stdout",
     "output_type": "stream",
     "text": [
      "49355 行有问题：nan\n",
      "49364 行有问题：nan\n"
     ]
    },
    {
     "data": {
      "text/plain": [
       "['法律', '要求', '残疾', '保险', '吗', '？', '债权人', '可以', '在', '死']"
      ]
     },
     "execution_count": 175,
     "metadata": {},
     "output_type": "execute_result"
    }
   ],
   "source": [
    "def cut(string):\n",
    "    return list(jieba.cut(string))\n",
    "\n",
    "# 获取的是所有切割出得词汇\n",
    "TOKEN = []\n",
    "for i,line in enumerate(date_insurance):\n",
    "    try:\n",
    "        TOKEN += cut(line)\n",
    "    except:\n",
    "        print(\"{} 行有问题：{}\".format(i, line))\n",
    "        continue\n",
    "for i,line in enumerate(date_movie_comment):\n",
    "    try:\n",
    "        TOKEN += cut(line)\n",
    "    except:\n",
    "        print(\"{} 行有问题：{}\".format(i, line))\n",
    "        continue\n",
    "TOKEN[:10] "
   ]
  },
  {
   "cell_type": "code",
   "execution_count": 176,
   "metadata": {},
   "outputs": [
    {
     "data": {
      "text/plain": [
       "[<matplotlib.lines.Line2D at 0x11b4e6f60>]"
      ]
     },
     "execution_count": 176,
     "metadata": {},
     "output_type": "execute_result"
    },
    {
     "data": {
      "image/png": "[encoded data removed]",
      "text/plain": [
       "<Figure size 432x288 with 1 Axes>"
      ]
     },
     "metadata": {
      "needs_background": "light"
     },
     "output_type": "display_data"
    }
   ],
   "source": [
    "words_count = Counter(TOKEN)\n",
    "words_count.most_common(100)\n",
    "frequiences = [f for w,f in words_count.most_common(100)]\n",
    "x = list(range(100))\n",
    "\n",
    "# %matplotlib inline\n",
    "plt.plot(x, frequiences)"
   ]
  },
  {
   "cell_type": "code",
   "execution_count": 177,
   "metadata": {},
   "outputs": [
    {
     "data": {
      "text/plain": [
       "[<matplotlib.lines.Line2D at 0x130d12588>]"
      ]
     },
     "execution_count": 177,
     "metadata": {},
     "output_type": "execute_result"
    },
    {
     "data": {
      "image/png": "[encoded data removed]",
      "text/plain": [
       "<Figure size 432x288 with 1 Axes>"
      ]
     },
     "metadata": {
      "needs_background": "light"
     },
     "output_type": "display_data"
    }
   ],
   "source": [
    "plt.plot(x, np.log(frequiences))"
   ]
  },
  {
   "cell_type": "code",
   "execution_count": 178,
   "metadata": {},
   "outputs": [
    {
     "data": {
      "text/plain": [
       "0.0010473370942363266"
      ]
     },
     "execution_count": 178,
     "metadata": {},
     "output_type": "execute_result"
    }
   ],
   "source": [
    "def prob_1(word):\n",
    "    return words_count[word] / len(TOKEN)\n",
    "prob_1('我们')"
   ]
  },
  {
   "cell_type": "code",
   "execution_count": 179,
   "metadata": {},
   "outputs": [
    {
     "name": "stdout",
     "output_type": "stream",
     "text": [
      "['法律', '要求', '残疾', '保险', '吗', '？', '债权人', '可以', '在', '死']\n",
      "['法律要求', '要求残疾', '残疾保险', '保险吗', '吗？', '？债权人', '债权人可以', '可以在', '在死', '死后']\n"
     ]
    }
   ],
   "source": [
    "TOKEN = [str(t) for t in TOKEN]\n",
    "print(TOKEN[:10])\n",
    "# 合并数据中相连的2个词汇\n",
    "TOKEN_2_GRAM = [''.join(TOKEN[i:i+2]) for i in range(len(TOKEN[:-2]))]\n",
    "print(TOKEN_2_GRAM[:10])\n",
    "words_count_2 = Counter(TOKEN_2_GRAM)"
   ]
  },
  {
   "cell_type": "code",
   "execution_count": 208,
   "metadata": {},
   "outputs": [],
   "source": [
    "def prob_2(word1, word2):\n",
    "    if word1 + word2 in words_count_2:\n",
    "        return words_count_2[word1 + word2] / (len(TOKEN_2_GRAM))\n",
    "    else:\n",
    "        return 1 / (len(TOKEN_2_GRAM))\n",
    "    \n",
    "def get_probablity(sentence):\n",
    "    words = cut(sentence)\n",
    "    sentence_pro = 1\n",
    "    for i ,word in enumerate(words[:-1]):\n",
    "        next_ = words[i+1]\n",
    "        probablity = prob_2(word, next_)\n",
    "        sentence_pro *= probablity\n",
    "    # print(sentence_pro)\n",
    "    return sentence_pro"
   ]
  },
  {
   "cell_type": "code",
   "execution_count": 209,
   "metadata": {},
   "outputs": [
    {
     "data": {
      "text/plain": [
       "['开心的鸡腿趴在图书馆玩饭',\n",
       " '你在图书馆满脸疑惑地吃一个亿',\n",
       " '惊讶的朋友在图书馆看猜拳',\n",
       " '朋友站在房间惊讶的想书',\n",
       " '鸡腿在图书馆惊讶的抽奖抽到猜拳',\n",
       " '你在房间惊讶的吃文章',\n",
       " '惊讶的你趴在图书馆和惊讶的你抽奖抽到猜拳',\n",
       " '鸡腿在图书馆和你玩猜拳',\n",
       " '惊讶的你站在图书馆抽奖抽到文章',\n",
       " '开心的电脑在屋顶看猜拳']"
      ]
     },
     "execution_count": 209,
     "metadata": {},
     "output_type": "execute_result"
    }
   ],
   "source": [
    "some_sentence\n",
    "# [generate(gram=example_grammar, target='sentence') for i in range(10)]:"
   ]
  },
  {
   "cell_type": "code",
   "execution_count": 210,
   "metadata": {},
   "outputs": [
    {
     "name": "stdout",
     "output_type": "stream",
     "text": [
      "sentence:开心的鸡腿趴在图书馆玩饭 \n",
      " with Prb: 2.4705291049079097e-32\n",
      "sentence:你在图书馆满脸疑惑地吃一个亿 \n",
      " with Prb: 2.3884557201254286e-44\n",
      "sentence:惊讶的朋友在图书馆看猜拳 \n",
      " with Prb: 1.3566592174595014e-34\n",
      "sentence:朋友站在房间惊讶的想书 \n",
      " with Prb: 6.607427968701216e-41\n",
      "sentence:鸡腿在图书馆惊讶的抽奖抽到猜拳 \n",
      " with Prb: 1.7648687587133706e-45\n",
      "sentence:你在房间惊讶的吃文章 \n",
      " with Prb: 7.212852133229711e-35\n",
      "sentence:惊讶的你趴在图书馆和惊讶的你抽奖抽到猜拳 \n",
      " with Prb: 2.1419558636109574e-67\n",
      "sentence:鸡腿在图书馆和你玩猜拳 \n",
      " with Prb: 4.7181192944362256e-37\n",
      "sentence:惊讶的你站在图书馆抽奖抽到文章 \n",
      " with Prb: 2.28054051075029e-46\n",
      "sentence:开心的电脑在屋顶看猜拳 \n",
      " with Prb: 9.072747117806488e-37\n"
     ]
    }
   ],
   "source": [
    "for sen in some_sentence:\n",
    "    print('sentence:{} \\n with Prb: {}'.format(sen, get_probablity(sen)))"
   ]
  },
  {
   "cell_type": "markdown",
   "metadata": {},
   "source": [
    "#### 3. 获得最优质的的语言"
   ]
  },
  {
   "cell_type": "markdown",
   "metadata": {},
   "source": [
    "当我们能够生成随机的语言并且能判断之后，我们就可以生成更加合理的语言了。请定义 generate_best 函数，该函数输入一个语法 + 语言模型，能够生成**n**个句子，并能选择一个最合理的句子: \n",
    "\n"
   ]
  },
  {
   "cell_type": "markdown",
   "metadata": {},
   "source": [
    "提示，要实现这个函数，你需要Python的sorted函数"
   ]
  },
  {
   "cell_type": "code",
   "execution_count": 211,
   "metadata": {},
   "outputs": [
    {
     "data": {
      "text/plain": [
       "[1, 2, 3, 5]"
      ]
     },
     "execution_count": 211,
     "metadata": {},
     "output_type": "execute_result"
    }
   ],
   "source": [
    "sorted([1, 3, 5, 2])"
   ]
  },
  {
   "cell_type": "markdown",
   "metadata": {},
   "source": [
    "这个函数接受一个参数key，这个参数接受一个函数作为输入，例如"
   ]
  },
  {
   "cell_type": "code",
   "execution_count": 212,
   "metadata": {},
   "outputs": [
    {
     "data": {
      "text/plain": [
       "[(1, 4), (2, 5), (4, 4), (5, 0)]"
      ]
     },
     "execution_count": 212,
     "metadata": {},
     "output_type": "execute_result"
    }
   ],
   "source": [
    "sorted([(2, 5), (1, 4), (5, 0), (4, 4)], key=lambda x: x[0])"
   ]
  },
  {
   "cell_type": "markdown",
   "metadata": {},
   "source": [
    "能够让list按照第0个元素进行排序."
   ]
  },
  {
   "cell_type": "code",
   "execution_count": 213,
   "metadata": {},
   "outputs": [
    {
     "data": {
      "text/plain": [
       "[(5, 0), (1, 4), (4, 4), (2, 5)]"
      ]
     },
     "execution_count": 213,
     "metadata": {},
     "output_type": "execute_result"
    }
   ],
   "source": [
    "sorted([(2, 5), (1, 4), (5, 0), (4, 4)], key=lambda x: x[1])"
   ]
  },
  {
   "cell_type": "markdown",
   "metadata": {},
   "source": [
    "能够让list按照第1个元素进行排序."
   ]
  },
  {
   "cell_type": "code",
   "execution_count": 214,
   "metadata": {},
   "outputs": [
    {
     "data": {
      "text/plain": [
       "[(5, 0), (1, 4), (4, 4), (2, 5)]"
      ]
     },
     "execution_count": 214,
     "metadata": {},
     "output_type": "execute_result"
    }
   ],
   "source": [
    "sorted([(2, 5), (1, 4), (5, 0), (4, 4)], key=lambda x: x[1], reverse=False)"
   ]
  },
  {
   "cell_type": "markdown",
   "metadata": {},
   "source": [
    "能够让list按照第1个元素进行排序, 但是是递减的顺序。"
   ]
  },
  {
   "cell_type": "code",
   "execution_count": 215,
   "metadata": {},
   "outputs": [],
   "source": [
    "def generate_best(gram, target, n): # you code here\n",
    "    # 生成句子\n",
    "    some_sentence = []\n",
    "    for i in range(n):\n",
    "        some_sentence.append(generate(get_gram(gram), target))   \n",
    "\n",
    "    # 判断句子\n",
    "    print(\"生成的所有句子排序后的概率：\\n\")\n",
    "    temp = []\n",
    "    for sen in some_sentence:\n",
    "        temp.append((sen, get_probablity(sen)))\n",
    "    \n",
    "    # 找最合理的句子\n",
    "    sen_best = sorted(temp, key=lambda x: x[1], reverse = True)\n",
    "    for sen in sen_best:\n",
    "        print(sen)\n",
    "    \n",
    "    print(\"\\n最合理的句子是：\",sen_best[0][0],\"\\n\")\n",
    " \n",
    "    pass"
   ]
  },
  {
   "cell_type": "markdown",
   "metadata": {},
   "source": [
    "好了，现在我们实现了自己的第一个AI模型，这个模型能够生成比较接近于人类的语言。"
   ]
  },
  {
   "cell_type": "code",
   "execution_count": 216,
   "metadata": {
    "scrolled": true
   },
   "outputs": [
    {
     "name": "stdout",
     "output_type": "stream",
     "text": [
      "生成的所有句子排序后的概率：\n",
      "\n",
      "('你在图书馆看书', 1.2289811239973134e-17)\n",
      "('鸡腿站在房间玩饭', 4.707992554991022e-24)\n",
      "('鸡腿蹲在图书馆想饭', 9.620046706792803e-26)\n",
      "('鸡腿在房间玩猜拳', 1.6519272122775518e-26)\n",
      "('朋友站在房间玩猜拳', 8.31230105088807e-31)\n",
      "('朋友在屋顶和小猫吃书', 1.7842710202112678e-32)\n",
      "('朋友蹲在屋顶玩一个亿', 1.2352645524539548e-32)\n",
      "('开心的朋友坐在屋顶抽奖抽到一个亿', 6.030075220680301e-43)\n",
      "('惊讶的电脑在图书馆惊讶的看猜拳', 7.607410508479201e-47)\n",
      "('惊讶的你在屋顶和我自己想一个亿', 4.3397343415290196e-48)\n",
      "\n",
      "最合理的句子是： 你在图书馆看书 \n",
      "\n"
     ]
    }
   ],
   "source": [
    "generate_best(you_need_replace_this_with_name_you_given_2, \"stroy\", 10)"
   ]
  },
  {
   "cell_type": "markdown",
   "metadata": {},
   "source": [
    "Q: 这个模型有什么问题？ 你准备如何提升？ "
   ]
  },
  {
   "cell_type": "markdown",
   "metadata": {},
   "source": [
    "Ans:\n",
    "1、单从词汇的概率来计算合理，本身信息就有很大的偏差。\n",
    "2、句子的长短影响了判断合理的概率,句子越长结果概率越小。\n",
    "3、模型源头的数据和判断目标的语法语境不够贴合\n",
    "\n",
    "提升：\n",
    "1、数据的准备：寻找合适的文本，增加数据量，去除干扰噪音的文字数据，平衡数据避免偏差\n",
    "2、语义的计算要提升专业技能另寻办法。"
   ]
  },
  {
   "cell_type": "markdown",
   "metadata": {},
   "source": [
    "##### 以下内容为可选部分，对于绝大多数同学，能完成以上的项目已经很优秀了，下边的内容如果你还有精力可以试试，但不是必须的。"
   ]
  },
  {
   "cell_type": "markdown",
   "metadata": {},
   "source": [
    "#### 4. (Optional) 完成基于Pattern Match的语句问答\n",
    "> 我们的GitHub仓库中，有一个assignment-01-optional-pattern-match，这个难度较大，感兴趣的同学可以挑战一下。"
   ]
  },
  {
   "cell_type": "markdown",
   "metadata": {},
   "source": [
    "\n",
    "#### 5. (Optional) 完成阿兰图灵机器智能原始论文的阅读\n",
    "1. 请阅读阿兰图灵关于机器智能的原始论文：https://github.com/Computing-Intelligence/References/blob/master/AI%20%26%20Machine%20Learning/Computer%20Machinery%20and%20Intelligence.pdf \n",
    "2. 并按照GitHub仓库中的论文阅读模板，填写完毕后发送给我: mqgao@kaikeba.com 谢谢"
   ]
  },
  {
   "cell_type": "markdown",
   "metadata": {},
   "source": [
    "> "
   ]
  },
  {
   "cell_type": "markdown",
   "metadata": {},
   "source": [
    "各位同学，我们已经完成了自己的第一个AI模型，大家对人工智能可能已经有了一些感觉，人工智能的核心就是，我们如何设计一个模型、程序，在外部的输入变化的时候，我们的程序不变，依然能够解决问题。人工智能是一个很大的领域，目前大家所熟知的深度学习只是其中一小部分，之后也肯定会有更多的方法提出来，但是大家知道人工智能的目标，就知道了之后进步的方向。"
   ]
  },
  {
   "cell_type": "markdown",
   "metadata": {},
   "source": [
    "然后，希望大家对AI不要有恐惧感，这个并不难，大家加油！"
   ]
  },
  {
   "cell_type": "markdown",
   "metadata": {},
   "source": [
    ">"
   ]
  },
  {
   "cell_type": "markdown",
   "metadata": {},
   "source": [
    "![](https://timgsa.baidu.com/timg?image&quality=80&size=b9999_10000&sec=1561828422005&di=48d19c16afb6acc9180183a6116088ac&imgtype=0&src=http%3A%2F%2Fb-ssl.duitang.com%2Fuploads%2Fitem%2F201807%2F28%2F20180728150843_BECNF.thumb.224_0.jpeg)"
   ]
  }
 ],
 "metadata": {
  "kernelspec": {
   "display_name": "Python 3",
   "language": "python",
   "name": "python3"
  },
  "language_info": {
   "codemirror_mode": {
    "name": "ipython",
    "version": 3
   },
   "file_extension": ".py",
   "mimetype": "text/x-python",
   "name": "python",
   "nbconvert_exporter": "python",
   "pygments_lexer": "ipython3",
   "version": "3.7.3"
  }
 },
 "nbformat": 4,
 "nbformat_minor": 2
}
